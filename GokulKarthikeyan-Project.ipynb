{
 "cells": [
  {
   "cell_type": "code",
   "execution_count": 2,
   "metadata": {},
   "outputs": [],
   "source": [
    "from pyspark.sql.functions import *\n",
    "from pyspark.sql.types import *\n",
    "from pyspark.sql import *\n",
    "import pyspark.sql.functions as func"
   ]
  },
  {
   "cell_type": "markdown",
   "metadata": {},
   "source": [
    "# Part - 1 - Combining Datasets"
   ]
  },
  {
   "cell_type": "markdown",
   "metadata": {},
   "source": [
    "### 1.1 - Loading Income Dataset"
   ]
  },
  {
   "cell_type": "code",
   "execution_count": 2,
   "metadata": {},
   "outputs": [
    {
     "name": "stdout",
     "output_type": "stream",
     "text": [
      "root\n",
      " |-- id: integer (nullable = true)\n",
      " |-- State_Code: integer (nullable = true)\n",
      " |-- State_Name: string (nullable = true)\n",
      " |-- State_ab: string (nullable = true)\n",
      " |-- County: string (nullable = true)\n",
      " |-- City: string (nullable = true)\n",
      " |-- Place: string (nullable = true)\n",
      " |-- Type: string (nullable = true)\n",
      " |-- Primary: string (nullable = true)\n",
      " |-- Zip_Code: integer (nullable = true)\n",
      " |-- Area_Code: string (nullable = true)\n",
      " |-- ALand: long (nullable = true)\n",
      " |-- AWater: long (nullable = true)\n",
      " |-- Lat: double (nullable = true)\n",
      " |-- Lon: double (nullable = true)\n",
      " |-- Mean_Household_Income: integer (nullable = true)\n",
      " |-- Median_HouseHold_Income: integer (nullable = true)\n",
      " |-- Stdev: integer (nullable = true)\n",
      " |-- NumHouseholds: double (nullable = true)"
     ]
    }
   ],
   "source": [
    "full_income = spark.read.format(\"csv\")\\\n",
    ".option(\"header\", \"true\")\\\n",
    ".option(\"inferSchema\", \"true\")\\\n",
    ".load(\"s3://gokulproject/Other_data/IncomeDataset.csv\")\n",
    "full_income.printSchema()"
   ]
  },
  {
   "cell_type": "code",
   "execution_count": 3,
   "metadata": {},
   "outputs": [
    {
     "name": "stdout",
     "output_type": "stream",
     "text": [
      "root\n",
      " |-- Inc_State: string (nullable = true)\n",
      " |-- Zip_Code: integer (nullable = true)\n",
      " |-- Mean_Household_Income: integer (nullable = true)\n",
      " |-- Median_Household_Income: integer (nullable = true)\n",
      " |-- NumHouseholds: double (nullable = true)\n",
      " |-- Inc_Zip: string (nullable = true)"
     ]
    }
   ],
   "source": [
    "income = full_income.select(col(\"State_ab\").alias('Inc_State'), col(\"Zip_Code\"), col(\"Mean_Household_Income\"), col(\"Median_Household_Income\"), col(\"NumHouseholds\"))\n",
    "income = income.withColumn(\"Inc_Zip\", income.Zip_Code.substr(1,3))\n",
    "income.printSchema()"
   ]
  },
  {
   "cell_type": "code",
   "execution_count": 4,
   "metadata": {},
   "outputs": [
    {
     "name": "stdout",
     "output_type": "stream",
     "text": [
      "+---------+--------+---------------------+-----------------------+-------------+-------+\n",
      "|Inc_State|Zip_Code|Mean_Household_Income|Median_Household_Income|NumHouseholds|Inc_Zip|\n",
      "+---------+--------+---------------------+-----------------------+-------------+-------+\n",
      "|       AL|   36611|                38773|                  30506|  1638.260513|    366|\n",
      "|       AL|   36048|                37725|                  19528|  258.0176847|    360|\n",
      "|       AL|   35051|                54606|                  31930|  926.0309998|    350|\n",
      "|       AL|   36572|                63919|                  52814|  378.1146191|    365|\n",
      "|       AL|   36528|                77948|                  67225|  282.3203278|    365|\n",
      "|       AL|   35057|                50715|                  42643|  173.3259586|    350|\n",
      "|       AL|   36426|                33737|                  23610|  758.7713224|    364|\n",
      "|       AL|   36020|                46319|                  40242|  397.0525642|    360|\n",
      "|       AL|   35621|                57994|                  39591|  137.4960385|    356|\n",
      "|       AL|   35151|                54807|                  41712|  380.7282381|    351|\n",
      "|       AL|   35986|                47929|                  38947|  3621.630319|    359|\n",
      "|       AL|   35901|                42251|                  28811|  10716.13924|    359|\n",
      "|       AL|   36033|                27993|                  19757|  553.4382141|    360|\n",
      "|       AL|   35136|                31229|                  22745|  528.0848847|    351|\n",
      "|       AL|   36744|                36439|                  21136|  775.2524846|    367|\n",
      "|       AL|   35563|                56934|                  39047|  37.26433151|    355|\n",
      "|       AL|   36344|                41057|                  21608|  770.5658392|    363|\n",
      "|       AL|   35080|                93682|                 300000|  359.4448283|    350|\n",
      "|       AL|   35903|                57202|                  46738|   1140.74819|    359|\n",
      "|       AL|   36467|                49699|                  34049|   77.3974208|    364|\n",
      "+---------+--------+---------------------+-----------------------+-------------+-------+\n",
      "only showing top 20 rows"
     ]
    }
   ],
   "source": [
    "income.show()"
   ]
  },
  {
   "cell_type": "code",
   "execution_count": 5,
   "metadata": {},
   "outputs": [],
   "source": [
    "income.createOrReplaceTempView(\"IncomeData\")"
   ]
  },
  {
   "cell_type": "code",
   "execution_count": 6,
   "metadata": {},
   "outputs": [
    {
     "name": "stdout",
     "output_type": "stream",
     "text": [
      "root\n",
      " |-- Tot_Mean_Income: long (nullable = true)\n",
      " |-- Tot_Med_Income: long (nullable = true)\n",
      " |-- NumHouseholds: double (nullable = true)\n",
      " |-- Inc_State: string (nullable = true)\n",
      " |-- Inc_Zip: string (nullable = true)"
     ]
    }
   ],
   "source": [
    "income_data = spark.sql(\"select sum(Mean_Household_Income) as Tot_Mean_Income, \\\n",
    "sum(Median_Household_Income) as Tot_Med_Income, \\\n",
    "SUM(NumHouseholds) as NumHouseholds, \\\n",
    "Inc_State, Inc_Zip \\\n",
    "from IncomeData \\\n",
    "group by Inc_State, Inc_Zip\")\n",
    "income_data.printSchema()"
   ]
  },
  {
   "cell_type": "markdown",
   "metadata": {},
   "source": [
    "### 1.2. Loading Education Dataset"
   ]
  },
  {
   "cell_type": "code",
   "execution_count": 7,
   "metadata": {},
   "outputs": [
    {
     "name": "stdout",
     "output_type": "stream",
     "text": [
      "root\n",
      " |-- PRIMARY_KEY: string (nullable = true)\n",
      " |-- STATE: string (nullable = true)\n",
      " |-- YEAR: integer (nullable = true)\n",
      " |-- ENROLL: double (nullable = true)\n",
      " |-- TOTAL_REVENUE: double (nullable = true)\n",
      " |-- FEDERAL_REVENUE: double (nullable = true)\n",
      " |-- STATE_REVENUE: double (nullable = true)\n",
      " |-- LOCAL_REVENUE: double (nullable = true)\n",
      " |-- TOTAL_EXPENDITURE: double (nullable = true)\n",
      " |-- INSTRUCTION_EXPENDITURE: double (nullable = true)\n",
      " |-- SUPPORT_SERVICES_EXPENDITURE: double (nullable = true)\n",
      " |-- OTHER_EXPENDITURE: double (nullable = true)\n",
      " |-- CAPITAL_OUTLAY_EXPENDITURE: double (nullable = true)\n",
      " |-- GRADES_PK_G: double (nullable = true)\n",
      " |-- GRADES_KG_G: double (nullable = true)\n",
      " |-- GRADES_4_G: double (nullable = true)\n",
      " |-- GRADES_8_G: double (nullable = true)\n",
      " |-- GRADES_12_G: double (nullable = true)\n",
      " |-- GRADES_1_8_G: double (nullable = true)\n",
      " |-- GRADES_9_12_G: double (nullable = true)\n",
      " |-- GRADES_ALL_G: double (nullable = true)\n",
      " |-- AVG_MATH_4_SCORE: double (nullable = true)\n",
      " |-- AVG_MATH_8_SCORE: double (nullable = true)\n",
      " |-- AVG_READING_4_SCORE: double (nullable = true)\n",
      " |-- AVG_READING_8_SCORE: double (nullable = true)"
     ]
    }
   ],
   "source": [
    "full_education = spark.read.format(\"csv\")\\\n",
    ".option(\"header\", \"true\")\\\n",
    ".option(\"inferSchema\", \"true\")\\\n",
    ".load(\"s3://gokulproject/Other_data/EducationDataset.csv\")\n",
    "full_education.printSchema()"
   ]
  },
  {
   "cell_type": "code",
   "execution_count": 8,
   "metadata": {},
   "outputs": [
    {
     "name": "stdout",
     "output_type": "stream",
     "text": [
      "root\n",
      " |-- State: string (nullable = true)\n",
      " |-- State_Educ_Revenue: double (nullable = true)\n",
      " |-- NumStudents: double (nullable = true)"
     ]
    }
   ],
   "source": [
    "education = full_education.select(col('STATE').alias('State'), col('STATE_REVENUE').alias('State_Educ_Revenue'), col('GRADES_ALL_G').alias('NumStudents'))\n",
    "education.printSchema()"
   ]
  },
  {
   "cell_type": "code",
   "execution_count": 9,
   "metadata": {},
   "outputs": [],
   "source": [
    "education.createOrReplaceTempView(\"EducationData\")"
   ]
  },
  {
   "cell_type": "code",
   "execution_count": 10,
   "metadata": {},
   "outputs": [
    {
     "name": "stdout",
     "output_type": "stream",
     "text": [
      "root\n",
      " |-- State: string (nullable = true)\n",
      " |-- NumStudents: double (nullable = true)\n",
      " |-- Tot_State_Educ_Revenue: double (nullable = true)"
     ]
    }
   ],
   "source": [
    "educ_data = spark.sql(\"select State, sum(NumStudents) as NumStudents, \\\n",
    "sum(State_Educ_Revenue) as Tot_State_Educ_Revenue \\\n",
    "from EducationData group by State\")\n",
    "educ_data.printSchema()"
   ]
  },
  {
   "cell_type": "code",
   "execution_count": 11,
   "metadata": {},
   "outputs": [
    {
     "name": "stdout",
     "output_type": "stream",
     "text": [
      "+--------------------+-----------+----------------------+\n",
      "|               State|NumStudents|Tot_State_Educ_Revenue|\n",
      "+--------------------+-----------+----------------------+\n",
      "|      SOUTH_CAROLINA| 1.547483E7|           7.0745597E7|\n",
      "|        DOD_OVERSEAS|   438979.0|                  null|\n",
      "|           WISCONSIN|1.9460842E7|          1.10117605E8|\n",
      "|DISTRICT_OF_COLUMBIA|  1673688.0|                   0.0|\n",
      "|   NORTHERN_MARIANAS|   139073.0|                  null|\n",
      "|        PENNSYLVANIA|3.9643588E7|          1.88960285E8|\n",
      "|            ILLINOIS|4.5100706E7|          1.79809932E8|\n",
      "|            MARYLAND| 1.864524E7|           9.8826436E7|\n",
      "|               IDAHO|  5784834.0|           2.5820605E7|\n",
      "|            MISSOURI|2.0061151E7|           8.3661928E7|\n",
      "|NORTHERN_MARIANA_...|    30393.0|                  null|\n",
      "|            NEW_YORK|5.9646734E7|          4.46777506E8|\n",
      "|             MONTANA|  3354134.0|           1.5196139E7|\n",
      "|      VIRGIN_ISLANDS|       null|                  null|\n",
      "|            MICHIGAN|  3.58826E7|          2.32956123E8|\n",
      "|             FLORIDA|5.5298947E7|          2.18933074E8|\n",
      "|              OREGON|1.1815272E7|           6.2709544E7|\n",
      "|      NORTH_CAROLINA|3.0015324E7|          1.54477379E8|\n",
      "|      DOD_-_DOMESTIC|    24217.0|                  null|\n",
      "|                 BIE|       null|                  null|\n",
      "+--------------------+-----------+----------------------+\n",
      "only showing top 20 rows"
     ]
    }
   ],
   "source": [
    "educ_data.show()"
   ]
  },
  {
   "cell_type": "markdown",
   "metadata": {},
   "source": [
    "### 1.3 Converting State into abbrevations using another dataset"
   ]
  },
  {
   "cell_type": "code",
   "execution_count": 12,
   "metadata": {},
   "outputs": [
    {
     "name": "stdout",
     "output_type": "stream",
     "text": [
      "root\n",
      " |-- State: string (nullable = true)\n",
      " |-- Abbreviation: string (nullable = true)"
     ]
    }
   ],
   "source": [
    "states = spark.read.format(\"csv\")\\\n",
    ".option(\"header\", \"true\")\\\n",
    ".option(\"inferSchema\", \"true\")\\\n",
    ".load(\"s3://gokulproject/Other_data/states.csv\")\n",
    "states.printSchema()"
   ]
  },
  {
   "cell_type": "code",
   "execution_count": 13,
   "metadata": {},
   "outputs": [],
   "source": [
    "from pyspark.sql.functions import lower, upper\n",
    "states = states.withColumn('State', upper(col('State')))\n"
   ]
  },
  {
   "cell_type": "code",
   "execution_count": 14,
   "metadata": {},
   "outputs": [
    {
     "name": "stdout",
     "output_type": "stream",
     "text": [
      "+--------------------+------------+\n",
      "|               State|Abbreviation|\n",
      "+--------------------+------------+\n",
      "|             ALABAMA|          AL|\n",
      "|              ALASKA|          AK|\n",
      "|             ARIZONA|          AZ|\n",
      "|            ARKANSAS|          AR|\n",
      "|          CALIFORNIA|          CA|\n",
      "|            COLORADO|          CO|\n",
      "|         CONNECTICUT|          CT|\n",
      "|            DELAWARE|          DE|\n",
      "|DISTRICT_OF_COLUMBIA|          DC|\n",
      "|             FLORIDA|          FL|\n",
      "|             GEORGIA|          GA|\n",
      "|              HAWAII|          HI|\n",
      "|               IDAHO|          ID|\n",
      "|            ILLINOIS|          IL|\n",
      "|             INDIANA|          IN|\n",
      "|                IOWA|          IA|\n",
      "|              KANSAS|          KS|\n",
      "|            KENTUCKY|          KY|\n",
      "|           LOUISIANA|          LA|\n",
      "|               MAINE|          ME|\n",
      "+--------------------+------------+\n",
      "only showing top 20 rows"
     ]
    }
   ],
   "source": [
    "states.show()"
   ]
  },
  {
   "cell_type": "code",
   "execution_count": 15,
   "metadata": {},
   "outputs": [
    {
     "name": "stdout",
     "output_type": "stream",
     "text": [
      "+-----------+----------------------+-----+\n",
      "|NumStudents|Tot_State_Educ_Revenue|state|\n",
      "+-----------+----------------------+-----+\n",
      "| 1.547483E7|           7.0745597E7|   SC|\n",
      "|1.9460842E7|          1.10117605E8|   WI|\n",
      "|  1673688.0|                   0.0|   DC|\n",
      "|3.9643588E7|          1.88960285E8|   PA|\n",
      "|4.5100706E7|          1.79809932E8|   IL|\n",
      "| 1.864524E7|           9.8826436E7|   MD|\n",
      "|  5784834.0|           2.5820605E7|   ID|\n",
      "|2.0061151E7|           8.3661928E7|   MO|\n",
      "|5.9646734E7|          4.46777506E8|   NY|\n",
      "|  3354134.0|           1.5196139E7|   MT|\n",
      "|  3.58826E7|          2.32956123E8|   MI|\n",
      "|5.5298947E7|          2.18933074E8|   FL|\n",
      "|1.1815272E7|           6.2709544E7|   OR|\n",
      "|3.0015324E7|          1.54477379E8|   NC|\n",
      "|  2910185.0|           2.6742962E7|   AK|\n",
      "|1.6038502E7|           6.8490629E7|   LA|\n",
      "|  4428573.0|           2.1842658E7|   ME|\n",
      "| 2.787006E7|          1.96224231E8|   NJ|\n",
      "|  1.40915E7|           5.8306836E7|   OK|\n",
      "|2.6046432E7|          1.22374713E8|   VA|\n",
      "+-----------+----------------------+-----+\n",
      "only showing top 20 rows"
     ]
    }
   ],
   "source": [
    "EducData_final = educ_data.join(states,\"State\", how='inner')\n",
    "EducData_final = EducData_final.drop('State')\n",
    "EducData_final = EducData_final.withColumnRenamed(\"Abbreviation\", \"state\")\n",
    "EducData_final.show()"
   ]
  },
  {
   "cell_type": "markdown",
   "metadata": {},
   "source": [
    "## 1.4 Loading Customer data set \n",
    "### Created a Hive Script and External table already in Hive "
   ]
  },
  {
   "cell_type": "code",
   "execution_count": 17,
   "metadata": {},
   "outputs": [
    {
     "name": "stdout",
     "output_type": "stream",
     "text": [
      "+--------------+--------------------+-----------+\n",
      "|      database|           tableName|isTemporary|\n",
      "+--------------+--------------------+-----------+\n",
      "|cust_complains| cust_complaints_all|      false|\n",
      "|cust_complains|cust_complaints_a...|      false|\n",
      "|              |       educationdata|       true|\n",
      "|              |          incomedata|       true|\n",
      "+--------------+--------------------+-----------+"
     ]
    }
   ],
   "source": [
    "spark.sql(\"use cust_complains\")\n",
    "spark.sql(\"show tables\").show()"
   ]
  },
  {
   "cell_type": "code",
   "execution_count": 18,
   "metadata": {},
   "outputs": [
    {
     "name": "stdout",
     "output_type": "stream",
     "text": [
      "root\n",
      " |-- date_received: string (nullable = true)\n",
      " |-- product: string (nullable = true)\n",
      " |-- sub_product: string (nullable = true)\n",
      " |-- issue: string (nullable = true)\n",
      " |-- sub_issue: string (nullable = true)\n",
      " |-- consumer_complaint_narrative: string (nullable = true)\n",
      " |-- company_public_response: string (nullable = true)\n",
      " |-- company: string (nullable = true)\n",
      " |-- state: string (nullable = true)\n",
      " |-- zip_code: string (nullable = true)\n",
      " |-- tags: string (nullable = true)\n",
      " |-- consumer_consent_provided: string (nullable = true)\n",
      " |-- submitted_via: string (nullable = true)\n",
      " |-- date_sent_to_company: string (nullable = true)\n",
      " |-- company_response: string (nullable = true)\n",
      " |-- timely_response: string (nullable = true)\n",
      " |-- consumer_disputed: string (nullable = true)\n",
      " |-- complaint_id: string (nullable = true)"
     ]
    }
   ],
   "source": [
    "customer = spark.sql(\"select * from cust_complaints_all\")\n",
    "customer.printSchema()"
   ]
  },
  {
   "cell_type": "code",
   "execution_count": 19,
   "metadata": {},
   "outputs": [
    {
     "name": "stdout",
     "output_type": "stream",
     "text": [
      "root\n",
      " |-- state: string (nullable = true)\n",
      " |-- date_received: string (nullable = true)\n",
      " |-- product: string (nullable = true)\n",
      " |-- sub_product: string (nullable = true)\n",
      " |-- issue: string (nullable = true)\n",
      " |-- sub_issue: string (nullable = true)\n",
      " |-- consumer_complaint_narrative: string (nullable = true)\n",
      " |-- company_public_response: string (nullable = true)\n",
      " |-- company: string (nullable = true)\n",
      " |-- zip_code: string (nullable = true)\n",
      " |-- tags: string (nullable = true)\n",
      " |-- consumer_consent_provided: string (nullable = true)\n",
      " |-- submitted_via: string (nullable = true)\n",
      " |-- date_sent_to_company: string (nullable = true)\n",
      " |-- company_response: string (nullable = true)\n",
      " |-- timely_response: string (nullable = true)\n",
      " |-- consumer_disputed: string (nullable = true)\n",
      " |-- complaint_id: string (nullable = true)\n",
      " |-- NumStudents: double (nullable = true)\n",
      " |-- Tot_State_Educ_Revenue: double (nullable = true)"
     ]
    }
   ],
   "source": [
    "customer = customer.join(EducData_final, \"state\", how=\"left\")\n",
    "customer.printSchema()"
   ]
  },
  {
   "cell_type": "code",
   "execution_count": 20,
   "metadata": {},
   "outputs": [
    {
     "name": "stdout",
     "output_type": "stream",
     "text": [
      "root\n",
      " |-- state: string (nullable = true)\n",
      " |-- date_received: string (nullable = true)\n",
      " |-- product: string (nullable = true)\n",
      " |-- sub_product: string (nullable = true)\n",
      " |-- issue: string (nullable = true)\n",
      " |-- sub_issue: string (nullable = true)\n",
      " |-- consumer_complaint_narrative: string (nullable = true)\n",
      " |-- company_public_response: string (nullable = true)\n",
      " |-- company: string (nullable = true)\n",
      " |-- zip_code: string (nullable = true)\n",
      " |-- tags: string (nullable = true)\n",
      " |-- consumer_consent_provided: string (nullable = true)\n",
      " |-- submitted_via: string (nullable = true)\n",
      " |-- date_sent_to_company: string (nullable = true)\n",
      " |-- company_response: string (nullable = true)\n",
      " |-- timely_response: string (nullable = true)\n",
      " |-- consumer_disputed: string (nullable = true)\n",
      " |-- complaint_id: string (nullable = true)\n",
      " |-- NumStudents: double (nullable = true)\n",
      " |-- Tot_State_Educ_Revenue: double (nullable = true)\n",
      " |-- zip: string (nullable = true)"
     ]
    }
   ],
   "source": [
    "customer = customer.withColumn(\"zip\", customer.zip_code.substr(1,3))\n",
    "customer.printSchema()"
   ]
  },
  {
   "cell_type": "code",
   "execution_count": 21,
   "metadata": {},
   "outputs": [],
   "source": [
    "#Merging Income with State and Zip \n",
    "customer = customer.join(income_data,(customer.state==income_data.Inc_State)&(customer.zip==income_data.Inc_Zip),\n",
    "                          how=\"left\")"
   ]
  },
  {
   "cell_type": "code",
   "execution_count": 22,
   "metadata": {},
   "outputs": [
    {
     "name": "stdout",
     "output_type": "stream",
     "text": [
      "root\n",
      " |-- state: string (nullable = true)\n",
      " |-- date_received: string (nullable = true)\n",
      " |-- product: string (nullable = true)\n",
      " |-- sub_product: string (nullable = true)\n",
      " |-- issue: string (nullable = true)\n",
      " |-- sub_issue: string (nullable = true)\n",
      " |-- consumer_complaint_narrative: string (nullable = true)\n",
      " |-- company_public_response: string (nullable = true)\n",
      " |-- company: string (nullable = true)\n",
      " |-- zip_code: string (nullable = true)\n",
      " |-- tags: string (nullable = true)\n",
      " |-- consumer_consent_provided: string (nullable = true)\n",
      " |-- submitted_via: string (nullable = true)\n",
      " |-- date_sent_to_company: string (nullable = true)\n",
      " |-- company_response: string (nullable = true)\n",
      " |-- timely_response: string (nullable = true)\n",
      " |-- consumer_disputed: string (nullable = true)\n",
      " |-- complaint_id: string (nullable = true)\n",
      " |-- NumStudents: double (nullable = true)\n",
      " |-- Tot_State_Educ_Revenue: double (nullable = true)\n",
      " |-- zip: string (nullable = true)\n",
      " |-- Tot_Mean_Income: long (nullable = true)\n",
      " |-- Tot_Med_Income: long (nullable = true)\n",
      " |-- NumHouseholds: double (nullable = true)"
     ]
    }
   ],
   "source": [
    "customer = customer.drop('Inc_State').drop('Inc_Zip')\n",
    "customer.printSchema()"
   ]
  },
  {
   "cell_type": "code",
   "execution_count": 23,
   "metadata": {},
   "outputs": [],
   "source": [
    "customer.createOrReplaceTempView(\"FinalData\")"
   ]
  },
  {
   "cell_type": "code",
   "execution_count": 25,
   "metadata": {},
   "outputs": [],
   "source": [
    "customer.write.parquet(\"s3://gokulproject/Merged_Data.pq\")"
   ]
  },
  {
   "cell_type": "markdown",
   "metadata": {},
   "source": [
    "# Part 2 - Dataset Description"
   ]
  },
  {
   "cell_type": "markdown",
   "metadata": {},
   "source": [
    "## 2. Importing Data From the Parquet File"
   ]
  },
  {
   "cell_type": "code",
   "execution_count": 1,
   "metadata": {},
   "outputs": [
    {
     "name": "stdout",
     "output_type": "stream",
     "text": [
      "Starting Spark application\n"
     ]
    },
    {
     "data": {
      "text/html": [
       "<table>\n",
       "<tr><th>ID</th><th>YARN Application ID</th><th>Kind</th><th>State</th><th>Spark UI</th><th>Driver log</th><th>Current session?</th></tr><tr><td>0</td><td>application_1557199152273_0002</td><td>pyspark3</td><td>idle</td><td><a target=\"_blank\" href=\"http://ip-172-31-65-249.ec2.internal:20888/proxy/application_1557199152273_0002/\">Link</a></td><td><a target=\"_blank\" href=\"http://ip-172-31-65-208.ec2.internal:8042/node/containerlogs/container_1557199152273_0002_01_000001/livy\">Link</a></td><td>✔</td></tr></table>"
      ],
      "text/plain": [
       "<IPython.core.display.HTML object>"
      ]
     },
     "metadata": {},
     "output_type": "display_data"
    },
    {
     "name": "stdout",
     "output_type": "stream",
     "text": [
      "SparkSession available as 'spark'.\n",
      "root\n",
      " |-- state: string (nullable = true)\n",
      " |-- date_received: string (nullable = true)\n",
      " |-- product: string (nullable = true)\n",
      " |-- sub_product: string (nullable = true)\n",
      " |-- issue: string (nullable = true)\n",
      " |-- sub_issue: string (nullable = true)\n",
      " |-- consumer_complaint_narrative: string (nullable = true)\n",
      " |-- company_public_response: string (nullable = true)\n",
      " |-- company: string (nullable = true)\n",
      " |-- zip_code: string (nullable = true)\n",
      " |-- tags: string (nullable = true)\n",
      " |-- consumer_consent_provided: string (nullable = true)\n",
      " |-- submitted_via: string (nullable = true)\n",
      " |-- date_sent_to_company: string (nullable = true)\n",
      " |-- company_response: string (nullable = true)\n",
      " |-- timely_response: string (nullable = true)\n",
      " |-- consumer_disputed: string (nullable = true)\n",
      " |-- complaint_id: string (nullable = true)\n",
      " |-- NumStudents: double (nullable = true)\n",
      " |-- Tot_State_Educ_Revenue: double (nullable = true)\n",
      " |-- zip: string (nullable = true)\n",
      " |-- Tot_Mean_Income: long (nullable = true)\n",
      " |-- Tot_Med_Income: long (nullable = true)\n",
      " |-- NumHouseholds: double (nullable = true)\n",
      "\n",
      "DataFrame[state: string, date_received: string, product: string, sub_product: string, issue: string, sub_issue: string, consumer_complaint_narrative: string, company_public_response: string, company: string, zip_code: string, tags: string, consumer_consent_provided: string, submitted_via: string, date_sent_to_company: string, company_response: string, timely_response: string, consumer_disputed: string, complaint_id: string, NumStudents: double, Tot_State_Educ_Revenue: double, zip: string, Tot_Mean_Income: bigint, Tot_Med_Income: bigint, NumHouseholds: double]"
     ]
    }
   ],
   "source": [
    "data = spark.read.format(\"parquet\")\\\n",
    ".option(\"nullValue\", \"\")\\\n",
    ".load(\"s3://gokulproject/Merged_Data.pq/\")\n",
    "data.printSchema()\n",
    "data.cache()"
   ]
  },
  {
   "cell_type": "code",
   "execution_count": 3,
   "metadata": {},
   "outputs": [
    {
     "name": "stdout",
     "output_type": "stream",
     "text": [
      "Total number of records in the dataset is: 1256552\n",
      "Total number of columns in the dataset is: 24"
     ]
    }
   ],
   "source": [
    "#Describing the dataset - number of records and columns.. \n",
    "print(\"Total number of records in the dataset is: \"+str(data.count()))\n",
    "print(\"Total number of columns in the dataset is: \"+str(len(data.columns)))"
   ]
  },
  {
   "cell_type": "markdown",
   "metadata": {},
   "source": [
    "## Handling Missing Values"
   ]
  },
  {
   "cell_type": "code",
   "execution_count": 3,
   "metadata": {},
   "outputs": [],
   "source": [
    "data_filled = data.na.fill(0)"
   ]
  },
  {
   "cell_type": "code",
   "execution_count": 4,
   "metadata": {},
   "outputs": [
    {
     "name": "stdout",
     "output_type": "stream",
     "text": [
      "Number of missing values in each column in the dataset is: \n",
      "\n",
      " state  -------->  18321\n",
      " date_received  -------->  0\n",
      " product  -------->  0\n",
      " sub_product  -------->  235166\n",
      " issue  -------->  0\n",
      " sub_issue  -------->  527631\n",
      " consumer_complaint_narrative  -------->  878057\n",
      " company_public_response  -------->  820539\n",
      " company  -------->  0\n",
      " zip_code  -------->  111426\n",
      " tags  -------->  1084568\n",
      " consumer_consent_provided  -------->  23095\n",
      " submitted_via  -------->  0\n",
      " date_sent_to_company  -------->  0\n",
      " company_response  -------->  6\n",
      " timely_response  -------->  0\n",
      " consumer_disputed  -------->  0\n",
      " complaint_id  -------->  0\n",
      " NumStudents  -------->  0\n",
      " Tot_State_Educ_Revenue  -------->  0\n",
      " zip  -------->  111426\n",
      " Tot_Mean_Income  -------->  0\n",
      " Tot_Med_Income  -------->  0\n",
      " NumHouseholds  -------->  0"
     ]
    }
   ],
   "source": [
    "items = data_filled.columns\n",
    "print(\"Number of missing values in each column in the dataset is: \"+'\\n')\n",
    "newcols =[]\n",
    "for item in items:\n",
    "    count = data_filled.filter((data_filled[item] == \"\") | data_filled[item].isNull() \n",
    "                                | isnan(data_filled[item])).count()\n",
    "    print(\" \" +item+ \"  -------->  \" +str(count))\n",
    "    if(count > 0):\n",
    "        newcols.append(item)"
   ]
  },
  {
   "cell_type": "markdown",
   "metadata": {},
   "source": [
    "## Missing Values for string =\"\""
   ]
  },
  {
   "cell_type": "code",
   "execution_count": 5,
   "metadata": {},
   "outputs": [],
   "source": [
    "#Imputing missing values that are not na\n",
    "#newcols.remove('zip_code')\n",
    "for item in newcols:\n",
    "    data_filled = data_filled.withColumn(item, regexp_replace(item, '^$', 'NoRecord'))"
   ]
  },
  {
   "cell_type": "code",
   "execution_count": 6,
   "metadata": {},
   "outputs": [],
   "source": [
    "item = data_filled.columns\n",
    "for item in items: \n",
    "    data_filled = data_filled.withColumn(item, regexp_replace(item, 'null', 'NoRecord'))"
   ]
  },
  {
   "cell_type": "code",
   "execution_count": 7,
   "metadata": {},
   "outputs": [
    {
     "name": "stdout",
     "output_type": "stream",
     "text": [
      "Number of missing values in each column in the dataset is: \n",
      "\n",
      " state  -------->  0\n",
      " date_received  -------->  0\n",
      " product  -------->  0\n",
      " sub_product  -------->  0\n",
      " issue  -------->  0\n",
      " sub_issue  -------->  0\n",
      " consumer_complaint_narrative  -------->  0\n",
      " company_public_response  -------->  0\n",
      " company  -------->  0\n",
      " zip_code  -------->  0\n",
      " tags  -------->  0\n",
      " consumer_consent_provided  -------->  0\n",
      " submitted_via  -------->  0\n",
      " date_sent_to_company  -------->  0\n",
      " company_response  -------->  0\n",
      " timely_response  -------->  0\n",
      " consumer_disputed  -------->  0\n",
      " complaint_id  -------->  0\n",
      " NumStudents  -------->  0\n",
      " Tot_State_Educ_Revenue  -------->  0\n",
      " zip  -------->  0\n",
      " Tot_Mean_Income  -------->  0\n",
      " Tot_Med_Income  -------->  0\n",
      " NumHouseholds  -------->  0"
     ]
    }
   ],
   "source": [
    "#checking after all missing values are imputed\n",
    "items = data_filled.columns\n",
    "print(\"Number of missing values in each column in the dataset is: \"+'\\n')\n",
    "for item in items:\n",
    "    count = data_filled.filter((data_filled[item] == \"\") | data_filled[item].isNull() | isnan(data_filled[item])).count()\n",
    "    print(\" \" +item+ \"  -------->  \" +str(count))"
   ]
  },
  {
   "cell_type": "markdown",
   "metadata": {},
   "source": [
    "## Describing Data statistics"
   ]
  },
  {
   "cell_type": "code",
   "execution_count": 8,
   "metadata": {},
   "outputs": [],
   "source": [
    "data = data_filled"
   ]
  },
  {
   "cell_type": "code",
   "execution_count": 10,
   "metadata": {},
   "outputs": [
    {
     "name": "stdout",
     "output_type": "stream",
     "text": [
      "+-------+-------------+------------------+--------------------+-----------------+\n",
      "|summary|date_received|          zip_code|date_sent_to_company|     complaint_id|\n",
      "+-------+-------------+------------------+--------------------+-----------------+\n",
      "|  count|      1256552|           1256552|             1256552|          1256552|\n",
      "|   mean|         null| 51110.26429484044|                null|1903487.285669833|\n",
      "| stddev|         null|30976.412374808933|                null|956531.1977919687|\n",
      "|    min|   01/01/2012|             (1352|          01/01/2013|                1|\n",
      "|    max|   12/31/2018|          NoRecord|          12/31/2018|            99999|\n",
      "+-------+-------------+------------------+--------------------+-----------------+\n",
      "\n",
      "+-------+--------------------+----------------------+-----------------+-----------------+-----------------+\n",
      "|summary|         NumStudents|Tot_State_Educ_Revenue|  Tot_Mean_Income|   Tot_Med_Income|    NumHouseholds|\n",
      "+-------+--------------------+----------------------+-----------------+-----------------+-----------------+\n",
      "|  count|             1256552|               1256552|          1256552|          1256552|          1256552|\n",
      "|   mean|4.9806873046703994E7|    2.61329454332151E8|5298669.044306165|6727300.299024632|51246.28715877263|\n",
      "| stddev|  3.93070148470954E7|  2.3300158740997577E8|4801526.808827681|6157246.418178633|86179.87624320471|\n",
      "|    min|                 0.0|                   0.0|                0|                0|              0.0|\n",
      "|    max|         9.7652535E7|           9.8826436E7|           993821|           993998|    9974.76366156|\n",
      "+-------+--------------------+----------------------+-----------------+-----------------+-----------------+"
     ]
    }
   ],
   "source": [
    "items = ['date_received', 'zip_code', 'date_sent_to_company', 'complaint_id']\n",
    "items2 = ['NumStudents', 'Tot_State_Educ_Revenue', \n",
    "        'Tot_Mean_Income', 'Tot_Med_Income', 'NumHouseholds']\n",
    "data.select(items).describe().show()\n",
    "data.select(items2).describe().show()"
   ]
  },
  {
   "cell_type": "markdown",
   "metadata": {},
   "source": [
    "## Unique Values in the Dataset"
   ]
  },
  {
   "cell_type": "code",
   "execution_count": 133,
   "metadata": {},
   "outputs": [
    {
     "name": "stdout",
     "output_type": "stream",
     "text": [
      "Count of distinct values in each column is: \n",
      "\n",
      " state  -------------->64\n",
      " date_received  -------------->2685\n",
      " product  -------------->18\n",
      " sub_product  -------------->77\n",
      " issue  -------------->167\n",
      " sub_issue  -------------->219\n",
      " consumer_complaint_narrative  -------------->362028\n",
      " company_public_response  -------------->11\n",
      " company  -------------->5253\n",
      " zip_code  -------------->22460\n",
      " tags  -------------->4\n",
      " consumer_consent_provided  -------------->6\n",
      " submitted_via  -------------->6\n",
      " date_sent_to_company  -------------->2634\n",
      " company_response  -------------->9\n",
      " timely_response  -------------->2\n",
      " consumer_disputed  -------------->3\n",
      " complaint_id  -------------->1256552\n",
      " NumStudents  -------------->52\n",
      " Tot_State_Educ_Revenue  -------------->51\n",
      " zip  -------------->999\n",
      " Tot_Mean_Income  -------------->854\n",
      " Tot_Med_Income  -------------->854\n",
      " NumHouseholds  -------------->854"
     ]
    }
   ],
   "source": [
    "#Counting unique values in a dataset - all columns: \n",
    "items = data.columns\n",
    "#items.remove('InvoiceDate')\n",
    "print(\"Count of distinct values in each column is: \"+'\\n')\n",
    "\n",
    "for item in items:\n",
    "    count_unique = data.select(col(item)).distinct().count()\n",
    "    print(\" \" +item+ \"  -------------->\" +str(count_unique))"
   ]
  },
  {
   "cell_type": "markdown",
   "metadata": {},
   "source": [
    "# Part 3 - Analysis and hypothesis"
   ]
  },
  {
   "cell_type": "markdown",
   "metadata": {},
   "source": [
    "### 1. Where do Top companies Fail ? - An Example - Equifax\n",
    "\n",
    "1. Identifying top 5 companies that have highest number of complaints. \n",
    "2. The top company - EQUIFAX can be filtered and see where the company is facing issue and which products line is receiving maximum complaints. \n",
    "3. Credit Reporting product of Equifax receives about 62k complaints and incorrect information on the report is the most common issue. "
   ]
  },
  {
   "cell_type": "code",
   "execution_count": 9,
   "metadata": {},
   "outputs": [],
   "source": [
    "df1 = data.groupby(\"company\").agg(func.count(lit(1)).alias(\"Num_Complaints\"))\\\n",
    ".sort('Num_Complaints', ascending=False).limit(20)"
   ]
  },
  {
   "cell_type": "code",
   "execution_count": 10,
   "metadata": {},
   "outputs": [],
   "source": [
    "df1.createOrReplaceTempView(\"df1\")"
   ]
  },
  {
   "cell_type": "code",
   "execution_count": 11,
   "metadata": {},
   "outputs": [],
   "source": [
    "%%sql -q -n 20 -o pd_df1\n",
    "SELECT * FROM df1"
   ]
  },
  {
   "cell_type": "code",
   "execution_count": 21,
   "metadata": {},
   "outputs": [
    {
     "data": {
      "text/plain": [
       "<matplotlib.axes._subplots.AxesSubplot at 0x7fa93c0c9128>"
      ]
     },
     "execution_count": 21,
     "metadata": {},
     "output_type": "execute_result"
    },
    {
     "data": {
      "image/png": "[encoded data removed]",
      "text/plain": [
       "<Figure size 1008x432 with 1 Axes>"
      ]
     },
     "metadata": {
      "needs_background": "light"
     },
     "output_type": "display_data"
    }
   ],
   "source": [
    "%%local \n",
    "%matplotlib inline\n",
    "import matplotlib as plt \n",
    "pd_df1.plot.bar(x='company', y='Num_Complaints', color='green', figsize=(14,6))\n"
   ]
  },
  {
   "cell_type": "code",
   "execution_count": 28,
   "metadata": {},
   "outputs": [],
   "source": [
    "equifax_data= data.where(\"company=='EQUIFAX, INC.'\")"
   ]
  },
  {
   "cell_type": "code",
   "execution_count": 29,
   "metadata": {},
   "outputs": [
    {
     "name": "stdout",
     "output_type": "stream",
     "text": [
      "+--------------------+--------------+\n",
      "|             product|num-complaints|\n",
      "+--------------------+--------------+\n",
      "|Credit reporting,...|         62197|\n",
      "|    Credit reporting|         48128|\n",
      "|     Debt collection|          1520|\n",
      "+--------------------+--------------+\n",
      "only showing top 3 rows"
     ]
    }
   ],
   "source": [
    "equifax_data.groupby('product')\\\n",
    ".agg(func.count(lit(1)).alias(\"num-complaints\"))\\\n",
    ".sort('num-complaints', ascending=False).show(3)"
   ]
  },
  {
   "cell_type": "code",
   "execution_count": 69,
   "metadata": {},
   "outputs": [
    {
     "name": "stdout",
     "output_type": "stream",
     "text": [
      "+--------------------------------------+-----------------------------------+--------------+\n",
      "|issue                                 |sub_issue                          |num-complaints|\n",
      "+--------------------------------------+-----------------------------------+--------------+\n",
      "|Incorrect information on your report  |Information belongs to someone else|15996         |\n",
      "|Incorrect information on credit report|Account status                     |12037         |\n",
      "|Incorrect information on credit report|Information is not mine            |11017         |\n",
      "+--------------------------------------+-----------------------------------+--------------+\n",
      "only showing top 3 rows"
     ]
    }
   ],
   "source": [
    "equifax_data.groupby('issue', 'sub_issue')\\\n",
    ".agg(func.count(lit(1)).alias(\"num-complaints\"))\\\n",
    ".sort('num-complaints', ascending=False).show(3, False)"
   ]
  },
  {
   "cell_type": "markdown",
   "metadata": {},
   "source": [
    "### 2. Complaints trend by State and ZipCode"
   ]
  },
  {
   "cell_type": "code",
   "execution_count": 30,
   "metadata": {},
   "outputs": [],
   "source": [
    "data_filtered = data.where(\"zip_code != 'NoRecord' and state != 'NoRecord'\")"
   ]
  },
  {
   "cell_type": "code",
   "execution_count": 31,
   "metadata": {},
   "outputs": [
    {
     "name": "stdout",
     "output_type": "stream",
     "text": [
      "+-----+--------------+\n",
      "|state|Num_Complaints|\n",
      "+-----+--------------+\n",
      "|CA   |166694        |\n",
      "|FL   |115219        |\n",
      "|TX   |98578         |\n",
      "|NY   |78760         |\n",
      "|GA   |62062         |\n",
      "+-----+--------------+\n",
      "only showing top 5 rows"
     ]
    }
   ],
   "source": [
    "data_filtered.groupby(\"state\").agg(func.count(lit(1)).alias(\"Num_Complaints\"))\\\n",
    ".sort('Num_Complaints', ascending= False).show(5, False)"
   ]
  },
  {
   "cell_type": "markdown",
   "metadata": {},
   "source": [
    "##### Creating a visualization"
   ]
  },
  {
   "cell_type": "code",
   "execution_count": 32,
   "metadata": {},
   "outputs": [],
   "source": [
    "df2 = data_filtered.groupby(\"state\").agg(func.count(lit(1)).alias(\"Num_Complaints\")).sort('state')\n",
    "df2.createOrReplaceTempView(\"df2\")\n"
   ]
  },
  {
   "cell_type": "code",
   "execution_count": 33,
   "metadata": {},
   "outputs": [],
   "source": [
    "%%sql -q -n 100 -o pd_df2\n",
    "SELECT * FROM df2"
   ]
  },
  {
   "cell_type": "code",
   "execution_count": 35,
   "metadata": {},
   "outputs": [
    {
     "data": {
      "text/plain": [
       "<matplotlib.axes._subplots.AxesSubplot at 0x7fa92fa79fd0>"
      ]
     },
     "execution_count": 35,
     "metadata": {},
     "output_type": "execute_result"
    },
    {
     "data": {
      "image/png": "[encoded data removed]",
      "text/plain": [
       "<Figure size 1008x432 with 1 Axes>"
      ]
     },
     "metadata": {
      "needs_background": "light"
     },
     "output_type": "display_data"
    }
   ],
   "source": [
    "%%local \n",
    "%matplotlib inline\n",
    "import matplotlib as plt \n",
    "pd_df2.plot.bar(x='state', y='Num_Complaints', color='blue', figsize=(14,6))"
   ]
  },
  {
   "cell_type": "markdown",
   "metadata": {},
   "source": [
    "#### Now, we know that States like CA, FL, and TX have more complaints, lets deep dive into these 3 at a zip_code level"
   ]
  },
  {
   "cell_type": "code",
   "execution_count": 36,
   "metadata": {},
   "outputs": [
    {
     "name": "stdout",
     "output_type": "stream",
     "text": [
      "Number of complaints by Zipcode in CA \n",
      "+--------+--------------+\n",
      "|zip_code|Num_Complaints|\n",
      "+--------+--------------+\n",
      "|945XX   |4059          |\n",
      "|900XX   |4012          |\n",
      "|926XX   |2646          |\n",
      "|917XX   |2306          |\n",
      "|921XX   |2288          |\n",
      "+--------+--------------+\n",
      "only showing top 5 rows\n",
      "\n",
      "Number of complaints by Zipcode in FL \n",
      "+--------+--------------+\n",
      "|zip_code|Num_Complaints|\n",
      "+--------+--------------+\n",
      "|330XX   |5228          |\n",
      "|331XX   |5156          |\n",
      "|334XX   |4435          |\n",
      "|333XX   |3280          |\n",
      "|322XX   |2523          |\n",
      "+--------+--------------+\n",
      "only showing top 5 rows\n",
      "\n",
      "Number of complaints by Zipcode in TX \n",
      "+--------+--------------+\n",
      "|zip_code|Num_Complaints|\n",
      "+--------+--------------+\n",
      "|770XX   |5801          |\n",
      "|750XX   |4812          |\n",
      "|752XX   |2691          |\n",
      "|760XX   |2279          |\n",
      "|774XX   |2226          |\n",
      "+--------+--------------+\n",
      "only showing top 5 rows"
     ]
    }
   ],
   "source": [
    "top = ['CA','FL','TX']\n",
    "\n",
    "for item in top:\n",
    "    print(\"Number of complaints by Zipcode in \"+item+\" \")\n",
    "    data_filtered.filter(data_filtered['state']==item)\\\n",
    "    .groupby(\"zip_code\")\\\n",
    "    .agg(func.count(lit(1)).alias(\"Num_Complaints\"))\\\n",
    "    .sort('Num_Complaints', ascending=False)\\\n",
    "    .show(5, False)"
   ]
  },
  {
   "cell_type": "markdown",
   "metadata": {},
   "source": [
    "### 3. Complaints on Product \n",
    "\n",
    "1. In a consumer complaint dataset, issues and complaints are based on products. \n",
    "2. At a product level, Mortgage, Debt Collection and Credit Card seems to occupy major pecentage of the complaints. \n",
    "3. We investigate each of these top 3 products in detail and identify potential issues. "
   ]
  },
  {
   "cell_type": "code",
   "execution_count": 38,
   "metadata": {},
   "outputs": [
    {
     "name": "stdout",
     "output_type": "stream",
     "text": [
      "+----------------------------------------------------------------------------+--------------+\n",
      "|product                                                                     |Num_complaints|\n",
      "+----------------------------------------------------------------------------+--------------+\n",
      "|Mortgage                                                                    |275730        |\n",
      "|Debt collection                                                             |240429        |\n",
      "|Credit reporting, credit repair services, or other personal consumer reports|213842        |\n",
      "|Credit reporting                                                            |140432        |\n",
      "|Credit card                                                                 |89190         |\n",
      "+----------------------------------------------------------------------------+--------------+\n",
      "only showing top 5 rows"
     ]
    }
   ],
   "source": [
    "data.groupby(\"product\")\\\n",
    ".agg(func.count(lit(1)).alias(\"Num_complaints\"))\\\n",
    ".sort('Num_Complaints', ascending=False).show(5, False)"
   ]
  },
  {
   "cell_type": "code",
   "execution_count": 74,
   "metadata": {},
   "outputs": [
    {
     "name": "stdout",
     "output_type": "stream",
     "text": [
      "Top issues in Mortgage \n",
      "+----------------------------------------+--------------+\n",
      "|issue                                   |Num_Complaints|\n",
      "+----------------------------------------+--------------+\n",
      "|Loan modification,collection,foreclosure|112311        |\n",
      "|Loan servicing, payments, escrow account|77333         |\n",
      "|Trouble during payment process          |21861         |\n",
      "|Struggling to pay mortgage              |17970         |\n",
      "|Application, originator, mortgage broker|17229         |\n",
      "+----------------------------------------+--------------+\n",
      "only showing top 5 rows\n",
      "\n",
      "Top issues in Debt collection \n",
      "+-------------------------------------+--------------+\n",
      "|issue                                |Num_Complaints|\n",
      "+-------------------------------------+--------------+\n",
      "|Cont'd attempts collect debt not owed|60687         |\n",
      "|Attempts to collect debt not owed    |40842         |\n",
      "|Communication tactics                |34912         |\n",
      "|Disclosure verification of debt      |30800         |\n",
      "|Written notification about debt      |22844         |\n",
      "+-------------------------------------+--------------+\n",
      "only showing top 5 rows\n",
      "\n",
      "Top issues in Credit card \n",
      "+-------------------------------------+--------------+\n",
      "|issue                                |Num_Complaints|\n",
      "+-------------------------------------+--------------+\n",
      "|Billing disputes                     |15136         |\n",
      "|Other                                |9353          |\n",
      "|Identity theft / Fraud / Embezzlement|8481          |\n",
      "|Closing/Cancelling account           |6389          |\n",
      "|APR or interest rate                 |5506          |\n",
      "+-------------------------------------+--------------+\n",
      "only showing top 5 rows"
     ]
    }
   ],
   "source": [
    "top = ['Mortgage','Debt collection','Credit card']\n",
    "\n",
    "for item in top:\n",
    "    print(\"Top issues in \"+item+\" \")\n",
    "    data.filter(data['product']==item)\\\n",
    "    .groupby(\"issue\")\\\n",
    "    .agg(func.count(lit(1)).alias(\"Num_Complaints\"))\\\n",
    "    .sort('Num_Complaints', ascending=False)\\\n",
    "    .show(5, False)"
   ]
  },
  {
   "cell_type": "markdown",
   "metadata": {},
   "source": [
    "### 4. Which source of submission receives timely response\n",
    "\n",
    "1. Generate Boolean Columns for all submitted_via values \n",
    "2. Filter data based on records with timely_response as Yes \n",
    "3. Count number of complaints in each source and find the most efficient source of complaint response \n",
    "4. It can be seen that Web receives maximum complaints (900k+), thus ignoring web, referral seems to be a promising source for getting a timely response from companies. "
   ]
  },
  {
   "cell_type": "code",
   "execution_count": 71,
   "metadata": {},
   "outputs": [
    {
     "name": "stdout",
     "output_type": "stream",
     "text": [
      "+-------------+\n",
      "|submitted_via|\n",
      "+-------------+\n",
      "|        Phone|\n",
      "|          Fax|\n",
      "|        Email|\n",
      "|     Referral|\n",
      "|  Postal mail|\n",
      "|          Web|\n",
      "+-------------+"
     ]
    }
   ],
   "source": [
    "data.select('submitted_via').distinct().show()"
   ]
  },
  {
   "cell_type": "code",
   "execution_count": 72,
   "metadata": {},
   "outputs": [],
   "source": [
    "data = data.withColumn(\"is_phone\", expr(\"submitted_via == 'Phone'\"))\n",
    "data = data.withColumn(\"is_fax\", expr(\"submitted_via == 'Fax'\"))\n",
    "data = data.withColumn(\"is_email\", expr(\"submitted_via == 'Email'\"))\n",
    "data = data.withColumn(\"is_referral\", expr(\"submitted_via == 'Referral'\"))\n",
    "data = data.withColumn(\"is_postalmail\", expr(\"submitted_via == 'Postal mail'\"))\n",
    "data = data.withColumn(\"is_web\", expr(\"submitted_via == 'Web'\"))"
   ]
  },
  {
   "cell_type": "code",
   "execution_count": 73,
   "metadata": {},
   "outputs": [],
   "source": [
    "data_timely = data.where(\"timely_response = 'Yes'\")"
   ]
  },
  {
   "cell_type": "code",
   "execution_count": 74,
   "metadata": {},
   "outputs": [
    {
     "name": "stdout",
     "output_type": "stream",
     "text": [
      "+--------------------+-----+----+-----+--------+----------+-----+\n",
      "|             company|phone| fax|email|referral|postalmail|  web|\n",
      "+--------------------+-----+----+-----+--------+----------+-----+\n",
      "|BANK OF AMERICA, ...| 6171|1301|   44|   24934|      4224|43089|\n",
      "|WELLS FARGO & COM...| 6072|1195|   31|   19312|      3450|36820|\n",
      "|JPMORGAN CHASE & CO.| 4574| 923|   25|   16020|      3033|34661|\n",
      "|      CITIBANK, N.A.| 3317| 619|   14|    7627|      2868|33519|\n",
      "|Experian Informat...| 3176|1975|   17|    4394|      8802|82213|\n",
      "+--------------------+-----+----+-----+--------+----------+-----+\n",
      "only showing top 5 rows"
     ]
    }
   ],
   "source": [
    "data_timely\\\n",
    ".groupby(\"company\")\\\n",
    ".agg(sum(data_timely['is_phone'].cast(IntegerType())).alias(\"phone\"),\n",
    "     sum(data_timely['is_fax'].cast(IntegerType())).alias(\"fax\"),\n",
    "     sum(data_timely['is_email'].cast(IntegerType())).alias(\"email\"),\n",
    "     sum(data_timely['is_referral'].cast(IntegerType())).alias(\"referral\"),\n",
    "     sum(data_timely['is_postalmail'].cast(IntegerType())).alias(\"postalmail\"),\n",
    "     sum(data_timely['is_web'].cast(IntegerType())).alias(\"web\"))\\\n",
    ".sort('phone','fax','email','referral',\n",
    "      'postalmail','web', ascending=False).show(5)"
   ]
  },
  {
   "cell_type": "markdown",
   "metadata": {},
   "source": [
    "##### Visualization"
   ]
  },
  {
   "cell_type": "code",
   "execution_count": 36,
   "metadata": {},
   "outputs": [
    {
     "name": "stdout",
     "output_type": "stream",
     "text": [
      "+-------------+--------------+\n",
      "|submitted_via|Num_Complaints|\n",
      "+-------------+--------------+\n",
      "|        Phone|         74956|\n",
      "|          Fax|         18659|\n",
      "|        Email|           382|\n",
      "|     Referral|        171390|\n",
      "|  Postal mail|         66734|\n",
      "|          Web|        924431|\n",
      "+-------------+--------------+"
     ]
    }
   ],
   "source": [
    "data.createOrReplaceTempView(\"CustData\")\n",
    "df4 = spark.sql(\"select submitted_via, count(complaint_id) as Num_Complaints from CustData group by submitted_via\")\n",
    "df4.show()"
   ]
  },
  {
   "cell_type": "code",
   "execution_count": 37,
   "metadata": {},
   "outputs": [],
   "source": [
    "df4.createOrReplaceTempView(\"df4\")"
   ]
  },
  {
   "cell_type": "code",
   "execution_count": 38,
   "metadata": {},
   "outputs": [],
   "source": [
    "%%sql -q -n 100 -o pd_df4\n",
    "SELECT * FROM df4"
   ]
  },
  {
   "cell_type": "code",
   "execution_count": 118,
   "metadata": {},
   "outputs": [
    {
     "data": {
      "text/plain": [
       "<matplotlib.legend.Legend at 0x7fa92b1fdd30>"
      ]
     },
     "execution_count": 118,
     "metadata": {},
     "output_type": "execute_result"
    },
    {
     "data": {
      "image/png": "[encoded data removed]",
      "text/plain": [
       "<Figure size 1080x576 with 1 Axes>"
      ]
     },
     "metadata": {},
     "output_type": "display_data"
    }
   ],
   "source": [
    "%%local \n",
    "%matplotlib inline\n",
    "import matplotlib as plt \n",
    "ax = pd_df4.plot.pie(labels=pd_df4['submitted_via'], y='Num_Complaints', \n",
    "                colors=['green', 'yellow', 'black', 'violet', 'orange', 'red'], figsize=(15,8))\n",
    "ax.legend(loc=\"upper left\")"
   ]
  },
  {
   "cell_type": "markdown",
   "metadata": {},
   "source": [
    "### 5. Do people who earn less file more complaints ? \n",
    "\n",
    "1. Its a well known fact that, majority of people who earn less (middle class) tend to file more complaints. \n",
    "2. Its seen from the data (after ignoring 0's) that the Tot_Mean_Income_distribution ranges from 35k to 19million(USD)\n",
    "3. To test the hypothesis, Tot_Mean_Income was split into buckets (50k, 100k, 150k, and 200k) \n",
    "4. And Number of complaints from each bucket was found. \n",
    "\n",
    "#### Result - \n",
    "- Its clear that majority of complaints (600+) comes from the people with middle class income. (50-100k). This could also be due to the fact that more number of people exist in that bucket. "
   ]
  },
  {
   "cell_type": "code",
   "execution_count": 16,
   "metadata": {},
   "outputs": [
    {
     "name": "stdout",
     "output_type": "stream",
     "text": [
      "+-------+-----------------+\n",
      "|summary|  Tot_Mean_Income|\n",
      "+-------+-----------------+\n",
      "|  count|          1256552|\n",
      "|   mean|5298669.044306165|\n",
      "| stddev|4801526.808827681|\n",
      "|    min|                0|\n",
      "|    max|           993821|\n",
      "+-------+-----------------+"
     ]
    }
   ],
   "source": [
    "data.select('Tot_Mean_Income').describe().show()"
   ]
  },
  {
   "cell_type": "code",
   "execution_count": 17,
   "metadata": {},
   "outputs": [
    {
     "name": "stdout",
     "output_type": "stream",
     "text": [
      "+-------+-------------------+\n",
      "|summary|Tot_Mean_Income_int|\n",
      "+-------+-------------------+\n",
      "|  count|            1049566|\n",
      "|   mean|   6343625.06498972|\n",
      "| stddev|  4579572.236572872|\n",
      "|    min|              35339|\n",
      "|    max|           19118905|\n",
      "+-------+-------------------+"
     ]
    }
   ],
   "source": [
    "data_2 = data.filter(\"Tot_Mean_Income != 0\")\n",
    "data_2 = data_2.withColumn(\"Tot_Mean_Income_int\", data_2['Tot_Mean_Income'].cast(IntegerType()))\n",
    "data_2.select('Tot_Mean_Income_int').describe().show()"
   ]
  },
  {
   "cell_type": "code",
   "execution_count": 18,
   "metadata": {},
   "outputs": [],
   "source": [
    "data_2 = data_2.withColumn(\"Less50k\", expr(\"Tot_Mean_Income_int < 50000\"))\n",
    "data_2 = data_2.withColumn(\"Bet50to100k\", expr(\"Tot_Mean_Income_int >= 50000 AND Tot_Mean_Income_int < 100000\"))\n",
    "data_2 = data_2.withColumn(\"Bet100to150k\", expr(\"Tot_Mean_Income_int >= 100000 AND Tot_Mean_Income_int <150000\"))\n",
    "data_2 = data_2.withColumn(\"Bet150to200k\", expr(\"Tot_Mean_Income_int >= 150000 AND Tot_Mean_Income_int <200000\"))"
   ]
  },
  {
   "cell_type": "code",
   "execution_count": 19,
   "metadata": {},
   "outputs": [
    {
     "name": "stdout",
     "output_type": "stream",
     "text": [
      "Number of complaints in Less50k population: 13\n",
      "Number of complaints in Bet50to100k population: 644\n",
      "Number of complaints in Bet100to150k population: 80\n",
      "Number of complaints in Bet150to200k population: 283"
     ]
    }
   ],
   "source": [
    "items = ['Less50k','Bet50to100k','Bet100to150k','Bet150to200k']\n",
    "for item in items: \n",
    "    cnt = data_2.where(item).count()\n",
    "    print(\"Number of complaints in \"+item+\" population: \"+str(cnt))"
   ]
  },
  {
   "cell_type": "markdown",
   "metadata": {},
   "source": [
    "### 6. Where companies fail to provide timely response \n",
    "\n",
    "1. Issue - One of the most common cause of issue that fails to provide a timely response is in the field of debt collection. The issues range from communication tactics, loan modification etc\n",
    "\n",
    "2. Companies: \n",
    "\n",
    "    - Bank of America : struggles to provide timely response for Mortgage \n",
    "    - Wells Fargo :  struggles to provide response in the banking services\n",
    "    - EquiFax, INC - struggles in the credit reporting segment "
   ]
  },
  {
   "cell_type": "code",
   "execution_count": 96,
   "metadata": {},
   "outputs": [],
   "source": [
    "data_notimely= data.where(\"timely_response=='No'\")"
   ]
  },
  {
   "cell_type": "code",
   "execution_count": 97,
   "metadata": {},
   "outputs": [
    {
     "name": "stdout",
     "output_type": "stream",
     "text": [
      "+----------------------------------------+--------------+\n",
      "|issue                                   |Num_complaints|\n",
      "+----------------------------------------+--------------+\n",
      "|Cont'd attempts collect debt not owed   |4131          |\n",
      "|Communication tactics                   |2452          |\n",
      "|Loan modification,collection,foreclosure|2155          |\n",
      "|Disclosure verification of debt         |2035          |\n",
      "|Incorrect information on your report    |1734          |\n",
      "+----------------------------------------+--------------+\n",
      "only showing top 5 rows"
     ]
    }
   ],
   "source": [
    "data_notimely.groupby('issue')\\\n",
    ".agg(func.count(lit(1)).alias('Num_complaints'))\\\n",
    ".sort('Num_complaints', ascending=False)\\\n",
    ".show(5, False)"
   ]
  },
  {
   "cell_type": "code",
   "execution_count": 98,
   "metadata": {},
   "outputs": [
    {
     "name": "stdout",
     "output_type": "stream",
     "text": [
      "+--------------------+--------------------+--------------+\n",
      "|             company|             product|Num_complaints|\n",
      "+--------------------+--------------------+--------------+\n",
      "|WELLS FARGO & COM...|Bank account or s...|          1530|\n",
      "|       EQUIFAX, INC.|Credit reporting,...|          1512|\n",
      "|BANK OF AMERICA, ...|            Mortgage|          1173|\n",
      "+--------------------+--------------------+--------------+\n",
      "only showing top 3 rows"
     ]
    }
   ],
   "source": [
    "data_notimely.groupby('company', 'product')\\\n",
    ".agg(func.count(lit(1)).alias('Num_complaints'))\\\n",
    ".sort('Num_complaints', ascending=False)\\\n",
    ".show(3)"
   ]
  },
  {
   "cell_type": "markdown",
   "metadata": {},
   "source": [
    "\n",
    "\n",
    "### 7. Education's Correlation with Complaints. \n",
    "\n",
    "1. We have from the education data - Number of students (passed 12th grade), and states' local revenue \n",
    "2. It can be seen that increase in education and local revenue seems to increase the number of complaints. \n",
    "3. This points to indicate that complaints are not silly and more educated people are affected by it. \n",
    "\n"
   ]
  },
  {
   "cell_type": "code",
   "execution_count": 104,
   "metadata": {},
   "outputs": [],
   "source": [
    "data = data.withColumn('NumStudents', data.NumStudents.cast(DecimalType(18, 2)))\n",
    "data = data.withColumn('Tot_State_Educ_Revenue', data.Tot_State_Educ_Revenue.cast(DecimalType(18, 2)))\n",
    "data = data.withColumn('complaint_id', data.complaint_id.cast(IntegerType()))"
   ]
  },
  {
   "cell_type": "code",
   "execution_count": 105,
   "metadata": {},
   "outputs": [],
   "source": [
    "data_educ = data.where(\"Tot_State_Educ_Revenue != 0\")"
   ]
  },
  {
   "cell_type": "code",
   "execution_count": 106,
   "metadata": {},
   "outputs": [
    {
     "name": "stdout",
     "output_type": "stream",
     "text": [
      "+-----+-------------------+----------------+--------------+\n",
      "|state|States-Educ_Revenue|NumberOfStudents|num_complaints|\n",
      "+-----+-------------------+----------------+--------------+\n",
      "|   CA|       774232107.00|    127943053.00|        172954|\n",
      "|   NY|       446777506.00|     59646734.00|         84384|\n",
      "|   TX|       362816451.00|     97652535.00|        105251|\n",
      "|   MI|       232956123.00|     35882600.00|         29754|\n",
      "|   FL|       218933074.00|     55298947.00|        123289|\n",
      "|   NJ|       196224231.00|     27870060.00|         46988|\n",
      "|   PA|       188960285.00|     39643588.00|         43325|\n",
      "|   OH|       188741219.00|     40008831.00|         37720|\n",
      "|   IL|       179809932.00|     45100706.00|         48653|\n",
      "|   NC|       154477379.00|     30015324.00|         38794|\n",
      "|   GA|       153062090.00|     33651759.00|         65512|\n",
      "|   WA|       144118417.00|     22506488.00|         24012|\n",
      "|   MN|       130631274.00|     18710320.00|         13142|\n",
      "|   IN|       129311835.00|     22473056.00|         14223|\n",
      "|   VA|       122374713.00|     26046432.00|         36853|\n",
      "|   MA|       117629806.00|     21054625.00|         22386|\n",
      "|   WI|       110117605.00|     19460842.00|         13000|\n",
      "|   MD|        98826436.00|     18645240.00|         35995|\n",
      "|   MO|        83661928.00|     20061151.00|         17637|\n",
      "|   AL|        79704806.00|     16436994.00|         14173|\n",
      "+-----+-------------------+----------------+--------------+\n",
      "only showing top 20 rows"
     ]
    }
   ],
   "source": [
    "data_educ.groupby('state')\\\n",
    ".agg(first(\"Tot_State_Educ_Revenue\").alias('States-Educ_Revenue'),\n",
    "     first(\"NumStudents\").alias(\"NumberOfStudents\"),\n",
    "    func.count(func.lit(1)).alias(\"num_complaints\"))\\\n",
    ".sort('States-Educ_Revenue','NumberOfStudents', ascending=False).show()"
   ]
  },
  {
   "cell_type": "markdown",
   "metadata": {},
   "source": [
    "### 8. Does Delay in sending complaints affect timely response \n",
    "\n",
    "1. In our dataset, date received indicates the date complaint was received and the data_sent_to_company is when the complaint was forwarded. \n",
    "2. This could be a reason as to why companies couldn't provide timely response\n",
    "3. Upon investigation, it is clear that though there was significant delay in receiving complaints, top tier companies like Equifax,Bank of the west, American Express etc could provide timely response irrespectively. \n",
    "4. However, smaller firms like Phillips Reinhar, Clayton Holdings has failed to provide timely_response. "
   ]
  },
  {
   "cell_type": "code",
   "execution_count": 182,
   "metadata": {},
   "outputs": [],
   "source": [
    "data = data.withColumn(\"date_received\", to_date(unix_timestamp(col(\"date_received\"), \"M/dd/yyyy\").cast(\"timestamp\")))\n",
    "data = data.withColumn(\"date_sent_to_company\", to_date(unix_timestamp(col(\"date_sent_to_company\"), \"M/dd/yyyy\").cast(\"timestamp\")))\n",
    "data = data.withColumn(\"Delay\", datediff(col('date_sent_to_company'), col('date_received')))"
   ]
  },
  {
   "cell_type": "code",
   "execution_count": 195,
   "metadata": {},
   "outputs": [
    {
     "name": "stdout",
     "output_type": "stream",
     "text": [
      "+-----+--------------------+---------------+\n",
      "|Delay|             company|timely_response|\n",
      "+-----+--------------------+---------------+\n",
      "| 1133|SMS Check Recover...|             No|\n",
      "| 1106|  Westhill Financial|             No|\n",
      "|  909|Clayton Holdings LLC|             No|\n",
      "|  832|Advanced Recovery...|             No|\n",
      "|  643|Elite Financial S...|             No|\n",
      "|  588|Phillips, Reinhar...|             No|\n",
      "|  587|Phillips, Reinhar...|             No|\n",
      "|  585|Phillips, Reinhar...|             No|\n",
      "|  573|  Kadent Corporation|             No|\n",
      "|  572|Evans Law Associa...|             No|\n",
      "|  564|Phillips, Reinhar...|             No|\n",
      "|  551|Phillips, Reinhar...|             No|\n",
      "|  536|Phillips, Reinhar...|             No|\n",
      "|  536|Phillips, Reinhar...|             No|\n",
      "|  531|Phillips, Reinhar...|             No|\n",
      "|  525|Phillips, Reinhar...|             No|\n",
      "+-----+--------------------+---------------+\n",
      "\n",
      "+-----+--------------------+---------------+\n",
      "|Delay|             company|timely_response|\n",
      "+-----+--------------------+---------------+\n",
      "| 1962|    BANK OF THE WEST|            Yes|\n",
      "| 1754|       EQUIFAX, INC.|            Yes|\n",
      "| 1753|Experian Informat...|            Yes|\n",
      "| 1613|NETSPEND CORPORATION|            Yes|\n",
      "| 1601|       EQUIFAX, INC.|            Yes|\n",
      "| 1553|    BB&T CORPORATION|            Yes|\n",
      "| 1421|National Manageme...|            Yes|\n",
      "| 1395|Merchants Credit ...|            Yes|\n",
      "| 1365|HSBC NORTH AMERIC...|            Yes|\n",
      "| 1270|      CITIBANK, N.A.|            Yes|\n",
      "| 1188| SYNCHRONY FINANCIAL|            Yes|\n",
      "| 1019|Jim Bottin Enterp...|            Yes|\n",
      "|  999|Sortis Financial,...|            Yes|\n",
      "|  993|AMERICAN EXPRESS ...|            Yes|\n",
      "|  959|Red Cedar Service...|            Yes|\n",
      "|  855|  CAC Financial Corp|            Yes|\n",
      "|  838|        CREDICO. INC|            Yes|\n",
      "|  833|CCS Financial Ser...|            Yes|\n",
      "|  825|CCS Financial Ser...|            Yes|\n",
      "|  783| NATIONSTAR MORTGAGE|            Yes|\n",
      "+-----+--------------------+---------------+\n",
      "only showing top 20 rows"
     ]
    }
   ],
   "source": [
    "data_delay.select('Delay', 'company', 'timely_response')\\\n",
    ".where(\"timely_response=='No'\")\\\n",
    ".sort('Delay', ascending=False).show()\n",
    "\n",
    "data_delay.select('Delay', 'company', 'timely_response')\\\n",
    ".where(\"timely_response=='Yes'\")\\\n",
    ".sort('Delay', ascending=False).show()"
   ]
  },
  {
   "cell_type": "markdown",
   "metadata": {},
   "source": [
    "### 9. Trend of complaints by Month\n",
    "\n",
    "1. Once we get Month level data from the table\n",
    "2. We can clearly see that March month recieves more complaints on average than any other months. "
   ]
  },
  {
   "cell_type": "code",
   "execution_count": 67,
   "metadata": {},
   "outputs": [
    {
     "name": "stdout",
     "output_type": "stream",
     "text": [
      "+--------+\n",
      "|   Month|\n",
      "+--------+\n",
      "|November|\n",
      "|November|\n",
      "|November|\n",
      "|November|\n",
      "|November|\n",
      "+--------+\n",
      "only showing top 5 rows"
     ]
    }
   ],
   "source": [
    "#Creating a column called Month \n",
    "\n",
    "data = data.withColumn(\"date_sent_to_company\", to_date(unix_timestamp(col(\"date_sent_to_company\"), \"M/dd/yyyy\").cast(\"timestamp\")))\n",
    "data = data.withColumn(\"Month\", date_format(col(\"date_sent_to_company\"), 'MMMMM'))\n",
    "data.select(\"Month\").show(5)"
   ]
  },
  {
   "cell_type": "code",
   "execution_count": 68,
   "metadata": {},
   "outputs": [
    {
     "name": "stdout",
     "output_type": "stream",
     "text": [
      "+---------+--------------+\n",
      "|    Month|Num_Complaints|\n",
      "+---------+--------------+\n",
      "|  January|        111990|\n",
      "| February|        111496|\n",
      "|    March|        125247|\n",
      "|    April|        100115|\n",
      "|      May|         98876|\n",
      "|     June|         98342|\n",
      "|     July|        102666|\n",
      "|   August|        106438|\n",
      "|September|        106341|\n",
      "|  October|        104961|\n",
      "| November|         93313|\n",
      "| December|         96767|\n",
      "+---------+--------------+"
     ]
    }
   ],
   "source": [
    "df9 = data.groupby(\"Month\")\\\n",
    ".agg(func.count(lit(1)).alias(\"Num_Complaints\"))\\\n",
    ".sort(to_date(col('Month'), 'MMMM'))\n",
    "df9.show()"
   ]
  },
  {
   "cell_type": "code",
   "execution_count": 87,
   "metadata": {},
   "outputs": [],
   "source": [
    "df9.createOrReplaceTempView(\"df9\")"
   ]
  },
  {
   "cell_type": "code",
   "execution_count": 88,
   "metadata": {},
   "outputs": [],
   "source": [
    "%%sql -q -n 20 -o pd_df9\n",
    "SELECT * FROM df9"
   ]
  },
  {
   "cell_type": "code",
   "execution_count": 92,
   "metadata": {},
   "outputs": [
    {
     "data": {
      "text/plain": [
       "[Text(0, 0, 'January'),\n",
       " Text(0, 0, 'February'),\n",
       " Text(0, 0, 'March'),\n",
       " Text(0, 0, 'April'),\n",
       " Text(0, 0, 'May'),\n",
       " Text(0, 0, 'June'),\n",
       " Text(0, 0, 'July'),\n",
       " Text(0, 0, 'August'),\n",
       " Text(0, 0, 'September'),\n",
       " Text(0, 0, 'October'),\n",
       " Text(0, 0, 'November'),\n",
       " Text(0, 0, 'December')]"
      ]
     },
     "execution_count": 92,
     "metadata": {},
     "output_type": "execute_result"
    },
    {
     "data": {
      "image/png": "[encoded data removed]",
      "text/plain": [
       "<Figure size 1008x432 with 1 Axes>"
      ]
     },
     "metadata": {
      "needs_background": "light"
     },
     "output_type": "display_data"
    }
   ],
   "source": [
    "%%local \n",
    "%matplotlib inline\n",
    "import matplotlib as plt \n",
    "ax = pd_df9.plot.line(x= 'Month', y='Num_Complaints', color='green', figsize=(14,6))\n",
    "ax.set_xticks(pd_df9.index)\n",
    "ax.set_xticklabels(pd_df9.Month)"
   ]
  },
  {
   "cell_type": "markdown",
   "metadata": {},
   "source": [
    "### 10. Products and complaints\n",
    "\n",
    "1. Top 3 products with issues are : Mortgage, Credit Reporting and Debt Collection"
   ]
  },
  {
   "cell_type": "code",
   "execution_count": 93,
   "metadata": {},
   "outputs": [],
   "source": [
    "df10 = data.groupby('product')\\\n",
    ".agg(func.count(lit(1)).alias(\"Num_Complaints\"))"
   ]
  },
  {
   "cell_type": "code",
   "execution_count": 94,
   "metadata": {},
   "outputs": [],
   "source": [
    "df10.createOrReplaceTempView(\"df10\")"
   ]
  },
  {
   "cell_type": "code",
   "execution_count": 95,
   "metadata": {},
   "outputs": [],
   "source": [
    "%%sql -q -n 20 -o pd_df10\n",
    "SELECT * FROM df10"
   ]
  },
  {
   "cell_type": "code",
   "execution_count": 113,
   "metadata": {},
   "outputs": [
    {
     "data": {
      "image/png": "[encoded data removed]",
      "text/plain": [
       "<Figure size 1584x864 with 1 Axes>"
      ]
     },
     "metadata": {},
     "output_type": "display_data"
    }
   ],
   "source": [
    "%%local \n",
    "%matplotlib inline\n",
    "import matplotlib as plt \n",
    "ax = pd_df10.plot.pie(labels=pd_df10['product'], y='Num_Complaints', figsize=(22,12), legend=False)"
   ]
  }
 ],
 "metadata": {
  "kernelspec": {
   "display_name": "PySpark3",
   "language": "",
   "name": "pyspark3kernel"
  },
  "language_info": {
   "codemirror_mode": {
    "name": "python",
    "version": 3
   },
   "mimetype": "text/x-python",
   "name": "pyspark3",
   "pygments_lexer": "python3"
  }
 },
 "nbformat": 4,
 "nbformat_minor": 2
}
